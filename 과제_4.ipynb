{
  "nbformat": 4,
  "nbformat_minor": 0,
  "metadata": {
    "colab": {
      "name": "과제_4.ipynb",
      "provenance": [],
      "authorship_tag": "ABX9TyMqCy0dwdHmWdeDEdqfYgmM",
      "include_colab_link": true
    },
    "kernelspec": {
      "name": "python3",
      "display_name": "Python 3"
    },
    "language_info": {
      "name": "python"
    },
    "accelerator": "GPU"
  },
  "cells": [
    {
      "cell_type": "markdown",
      "metadata": {
        "id": "view-in-github",
        "colab_type": "text"
      },
      "source": [
        "<a href=\"https://colab.research.google.com/github/h5ng/uos_bigdata/blob/main/%EA%B3%BC%EC%A0%9C_4.ipynb\" target=\"_parent\"><img src=\"https://colab.research.google.com/assets/colab-badge.svg\" alt=\"Open In Colab\"/></a>"
      ]
    },
    {
      "cell_type": "code",
      "metadata": {
        "colab": {
          "base_uri": "https://localhost:8080/"
        },
        "id": "lwv0V2UJv0v6",
        "outputId": "c9c51737-7495-4acd-ca60-f1ebcd251953"
      },
      "source": [
        "!sudo apt install openjdk-8-jdk"
      ],
      "execution_count": 1,
      "outputs": [
        {
          "output_type": "stream",
          "text": [
            "Reading package lists... Done\n",
            "Building dependency tree       \n",
            "Reading state information... Done\n",
            "The following additional packages will be installed:\n",
            "  fonts-dejavu-core fonts-dejavu-extra libatk-wrapper-java\n",
            "  libatk-wrapper-java-jni libgail-common libgail18 libgtk2.0-0 libgtk2.0-bin\n",
            "  libgtk2.0-common libxxf86dga1 openjdk-8-jdk-headless openjdk-8-jre\n",
            "  openjdk-8-jre-headless x11-utils\n",
            "Suggested packages:\n",
            "  gvfs openjdk-8-demo openjdk-8-source visualvm icedtea-8-plugin libnss-mdns\n",
            "  fonts-ipafont-gothic fonts-ipafont-mincho fonts-wqy-microhei\n",
            "  fonts-wqy-zenhei fonts-indic mesa-utils\n",
            "The following NEW packages will be installed:\n",
            "  fonts-dejavu-core fonts-dejavu-extra libatk-wrapper-java\n",
            "  libatk-wrapper-java-jni libgail-common libgail18 libgtk2.0-0 libgtk2.0-bin\n",
            "  libgtk2.0-common libxxf86dga1 openjdk-8-jdk openjdk-8-jdk-headless\n",
            "  openjdk-8-jre openjdk-8-jre-headless x11-utils\n",
            "0 upgraded, 15 newly installed, 0 to remove and 39 not upgraded.\n",
            "Need to get 43.5 MB of archives.\n",
            "After this operation, 163 MB of additional disk space will be used.\n",
            "Get:1 http://archive.ubuntu.com/ubuntu bionic/main amd64 libxxf86dga1 amd64 2:1.1.4-1 [13.7 kB]\n",
            "Get:2 http://archive.ubuntu.com/ubuntu bionic/main amd64 fonts-dejavu-core all 2.37-1 [1,041 kB]\n",
            "Get:3 http://archive.ubuntu.com/ubuntu bionic/main amd64 fonts-dejavu-extra all 2.37-1 [1,953 kB]\n",
            "Get:4 http://archive.ubuntu.com/ubuntu bionic/main amd64 x11-utils amd64 7.7+3build1 [196 kB]\n",
            "Get:5 http://archive.ubuntu.com/ubuntu bionic/main amd64 libatk-wrapper-java all 0.33.3-20ubuntu0.1 [34.7 kB]\n",
            "Get:6 http://archive.ubuntu.com/ubuntu bionic/main amd64 libatk-wrapper-java-jni amd64 0.33.3-20ubuntu0.1 [28.3 kB]\n",
            "Get:7 http://archive.ubuntu.com/ubuntu bionic/main amd64 libgtk2.0-common all 2.24.32-1ubuntu1 [125 kB]\n",
            "Get:8 http://archive.ubuntu.com/ubuntu bionic/main amd64 libgtk2.0-0 amd64 2.24.32-1ubuntu1 [1,769 kB]\n",
            "Get:9 http://archive.ubuntu.com/ubuntu bionic/main amd64 libgail18 amd64 2.24.32-1ubuntu1 [14.2 kB]\n",
            "Get:10 http://archive.ubuntu.com/ubuntu bionic/main amd64 libgail-common amd64 2.24.32-1ubuntu1 [112 kB]\n",
            "Get:11 http://archive.ubuntu.com/ubuntu bionic/main amd64 libgtk2.0-bin amd64 2.24.32-1ubuntu1 [7,536 B]\n",
            "Get:12 http://archive.ubuntu.com/ubuntu bionic-updates/universe amd64 openjdk-8-jre-headless amd64 8u292-b10-0ubuntu1~18.04 [28.2 MB]\n",
            "Get:13 http://archive.ubuntu.com/ubuntu bionic-updates/universe amd64 openjdk-8-jre amd64 8u292-b10-0ubuntu1~18.04 [69.6 kB]\n",
            "Get:14 http://archive.ubuntu.com/ubuntu bionic-updates/universe amd64 openjdk-8-jdk-headless amd64 8u292-b10-0ubuntu1~18.04 [8,284 kB]\n",
            "Get:15 http://archive.ubuntu.com/ubuntu bionic-updates/universe amd64 openjdk-8-jdk amd64 8u292-b10-0ubuntu1~18.04 [1,644 kB]\n",
            "Fetched 43.5 MB in 2s (23.7 MB/s)\n",
            "debconf: unable to initialize frontend: Dialog\n",
            "debconf: (No usable dialog-like program is installed, so the dialog based frontend cannot be used. at /usr/share/perl5/Debconf/FrontEnd/Dialog.pm line 76, <> line 15.)\n",
            "debconf: falling back to frontend: Readline\n",
            "debconf: unable to initialize frontend: Readline\n",
            "debconf: (This frontend requires a controlling tty.)\n",
            "debconf: falling back to frontend: Teletype\n",
            "dpkg-preconfigure: unable to re-open stdin: \n",
            "Selecting previously unselected package libxxf86dga1:amd64.\n",
            "(Reading database ... 160772 files and directories currently installed.)\n",
            "Preparing to unpack .../00-libxxf86dga1_2%3a1.1.4-1_amd64.deb ...\n",
            "Unpacking libxxf86dga1:amd64 (2:1.1.4-1) ...\n",
            "Selecting previously unselected package fonts-dejavu-core.\n",
            "Preparing to unpack .../01-fonts-dejavu-core_2.37-1_all.deb ...\n",
            "Unpacking fonts-dejavu-core (2.37-1) ...\n",
            "Selecting previously unselected package fonts-dejavu-extra.\n",
            "Preparing to unpack .../02-fonts-dejavu-extra_2.37-1_all.deb ...\n",
            "Unpacking fonts-dejavu-extra (2.37-1) ...\n",
            "Selecting previously unselected package x11-utils.\n",
            "Preparing to unpack .../03-x11-utils_7.7+3build1_amd64.deb ...\n",
            "Unpacking x11-utils (7.7+3build1) ...\n",
            "Selecting previously unselected package libatk-wrapper-java.\n",
            "Preparing to unpack .../04-libatk-wrapper-java_0.33.3-20ubuntu0.1_all.deb ...\n",
            "Unpacking libatk-wrapper-java (0.33.3-20ubuntu0.1) ...\n",
            "Selecting previously unselected package libatk-wrapper-java-jni:amd64.\n",
            "Preparing to unpack .../05-libatk-wrapper-java-jni_0.33.3-20ubuntu0.1_amd64.deb ...\n",
            "Unpacking libatk-wrapper-java-jni:amd64 (0.33.3-20ubuntu0.1) ...\n",
            "Selecting previously unselected package libgtk2.0-common.\n",
            "Preparing to unpack .../06-libgtk2.0-common_2.24.32-1ubuntu1_all.deb ...\n",
            "Unpacking libgtk2.0-common (2.24.32-1ubuntu1) ...\n",
            "Selecting previously unselected package libgtk2.0-0:amd64.\n",
            "Preparing to unpack .../07-libgtk2.0-0_2.24.32-1ubuntu1_amd64.deb ...\n",
            "Unpacking libgtk2.0-0:amd64 (2.24.32-1ubuntu1) ...\n",
            "Selecting previously unselected package libgail18:amd64.\n",
            "Preparing to unpack .../08-libgail18_2.24.32-1ubuntu1_amd64.deb ...\n",
            "Unpacking libgail18:amd64 (2.24.32-1ubuntu1) ...\n",
            "Selecting previously unselected package libgail-common:amd64.\n",
            "Preparing to unpack .../09-libgail-common_2.24.32-1ubuntu1_amd64.deb ...\n",
            "Unpacking libgail-common:amd64 (2.24.32-1ubuntu1) ...\n",
            "Selecting previously unselected package libgtk2.0-bin.\n",
            "Preparing to unpack .../10-libgtk2.0-bin_2.24.32-1ubuntu1_amd64.deb ...\n",
            "Unpacking libgtk2.0-bin (2.24.32-1ubuntu1) ...\n",
            "Selecting previously unselected package openjdk-8-jre-headless:amd64.\n",
            "Preparing to unpack .../11-openjdk-8-jre-headless_8u292-b10-0ubuntu1~18.04_amd64.deb ...\n",
            "Unpacking openjdk-8-jre-headless:amd64 (8u292-b10-0ubuntu1~18.04) ...\n",
            "Selecting previously unselected package openjdk-8-jre:amd64.\n",
            "Preparing to unpack .../12-openjdk-8-jre_8u292-b10-0ubuntu1~18.04_amd64.deb ...\n",
            "Unpacking openjdk-8-jre:amd64 (8u292-b10-0ubuntu1~18.04) ...\n",
            "Selecting previously unselected package openjdk-8-jdk-headless:amd64.\n",
            "Preparing to unpack .../13-openjdk-8-jdk-headless_8u292-b10-0ubuntu1~18.04_amd64.deb ...\n",
            "Unpacking openjdk-8-jdk-headless:amd64 (8u292-b10-0ubuntu1~18.04) ...\n",
            "Selecting previously unselected package openjdk-8-jdk:amd64.\n",
            "Preparing to unpack .../14-openjdk-8-jdk_8u292-b10-0ubuntu1~18.04_amd64.deb ...\n",
            "Unpacking openjdk-8-jdk:amd64 (8u292-b10-0ubuntu1~18.04) ...\n",
            "Setting up libgtk2.0-common (2.24.32-1ubuntu1) ...\n",
            "Setting up fonts-dejavu-core (2.37-1) ...\n",
            "Setting up libxxf86dga1:amd64 (2:1.1.4-1) ...\n",
            "Setting up fonts-dejavu-extra (2.37-1) ...\n",
            "Setting up openjdk-8-jre-headless:amd64 (8u292-b10-0ubuntu1~18.04) ...\n",
            "update-alternatives: using /usr/lib/jvm/java-8-openjdk-amd64/jre/bin/orbd to provide /usr/bin/orbd (orbd) in auto mode\n",
            "update-alternatives: using /usr/lib/jvm/java-8-openjdk-amd64/jre/bin/servertool to provide /usr/bin/servertool (servertool) in auto mode\n",
            "update-alternatives: using /usr/lib/jvm/java-8-openjdk-amd64/jre/bin/tnameserv to provide /usr/bin/tnameserv (tnameserv) in auto mode\n",
            "Setting up libgtk2.0-0:amd64 (2.24.32-1ubuntu1) ...\n",
            "Setting up libgail18:amd64 (2.24.32-1ubuntu1) ...\n",
            "Setting up openjdk-8-jdk-headless:amd64 (8u292-b10-0ubuntu1~18.04) ...\n",
            "update-alternatives: using /usr/lib/jvm/java-8-openjdk-amd64/bin/idlj to provide /usr/bin/idlj (idlj) in auto mode\n",
            "update-alternatives: using /usr/lib/jvm/java-8-openjdk-amd64/bin/wsimport to provide /usr/bin/wsimport (wsimport) in auto mode\n",
            "update-alternatives: using /usr/lib/jvm/java-8-openjdk-amd64/bin/jsadebugd to provide /usr/bin/jsadebugd (jsadebugd) in auto mode\n",
            "update-alternatives: using /usr/lib/jvm/java-8-openjdk-amd64/bin/native2ascii to provide /usr/bin/native2ascii (native2ascii) in auto mode\n",
            "update-alternatives: using /usr/lib/jvm/java-8-openjdk-amd64/bin/javah to provide /usr/bin/javah (javah) in auto mode\n",
            "update-alternatives: using /usr/lib/jvm/java-8-openjdk-amd64/bin/hsdb to provide /usr/bin/hsdb (hsdb) in auto mode\n",
            "update-alternatives: using /usr/lib/jvm/java-8-openjdk-amd64/bin/clhsdb to provide /usr/bin/clhsdb (clhsdb) in auto mode\n",
            "update-alternatives: using /usr/lib/jvm/java-8-openjdk-amd64/bin/extcheck to provide /usr/bin/extcheck (extcheck) in auto mode\n",
            "update-alternatives: using /usr/lib/jvm/java-8-openjdk-amd64/bin/schemagen to provide /usr/bin/schemagen (schemagen) in auto mode\n",
            "update-alternatives: using /usr/lib/jvm/java-8-openjdk-amd64/bin/xjc to provide /usr/bin/xjc (xjc) in auto mode\n",
            "update-alternatives: using /usr/lib/jvm/java-8-openjdk-amd64/bin/jhat to provide /usr/bin/jhat (jhat) in auto mode\n",
            "update-alternatives: using /usr/lib/jvm/java-8-openjdk-amd64/bin/wsgen to provide /usr/bin/wsgen (wsgen) in auto mode\n",
            "Setting up x11-utils (7.7+3build1) ...\n",
            "Setting up libgail-common:amd64 (2.24.32-1ubuntu1) ...\n",
            "Setting up libatk-wrapper-java (0.33.3-20ubuntu0.1) ...\n",
            "Setting up libgtk2.0-bin (2.24.32-1ubuntu1) ...\n",
            "Setting up libatk-wrapper-java-jni:amd64 (0.33.3-20ubuntu0.1) ...\n",
            "Setting up openjdk-8-jre:amd64 (8u292-b10-0ubuntu1~18.04) ...\n",
            "update-alternatives: using /usr/lib/jvm/java-8-openjdk-amd64/jre/bin/policytool to provide /usr/bin/policytool (policytool) in auto mode\n",
            "Setting up openjdk-8-jdk:amd64 (8u292-b10-0ubuntu1~18.04) ...\n",
            "update-alternatives: using /usr/lib/jvm/java-8-openjdk-amd64/bin/appletviewer to provide /usr/bin/appletviewer (appletviewer) in auto mode\n",
            "update-alternatives: using /usr/lib/jvm/java-8-openjdk-amd64/bin/jconsole to provide /usr/bin/jconsole (jconsole) in auto mode\n",
            "Processing triggers for man-db (2.8.3-2ubuntu0.1) ...\n",
            "Processing triggers for hicolor-icon-theme (0.17-2) ...\n",
            "Processing triggers for fontconfig (2.12.6-0ubuntu2) ...\n",
            "Processing triggers for mime-support (3.60ubuntu1) ...\n",
            "Processing triggers for libc-bin (2.27-3ubuntu1.2) ...\n",
            "/sbin/ldconfig.real: /usr/local/lib/python3.7/dist-packages/ideep4py/lib/libmkldnn.so.0 is not a symbolic link\n",
            "\n"
          ],
          "name": "stdout"
        }
      ]
    },
    {
      "cell_type": "code",
      "metadata": {
        "colab": {
          "base_uri": "https://localhost:8080/"
        },
        "id": "TxAvuV5Hwsi4",
        "outputId": "4bb41667-d49c-4d92-fed3-07960fad4816"
      },
      "source": [
        "!sudo update-alternatives --set java /usr/lib/jvm/java-8-openjdk-amd64/jre/bin/java"
      ],
      "execution_count": 2,
      "outputs": [
        {
          "output_type": "stream",
          "text": [
            "update-alternatives: using /usr/lib/jvm/java-8-openjdk-amd64/jre/bin/java to provide /usr/bin/java (java) in manual mode\n"
          ],
          "name": "stdout"
        }
      ]
    },
    {
      "cell_type": "code",
      "metadata": {
        "colab": {
          "base_uri": "https://localhost:8080/"
        },
        "id": "jWi8xRA5wt7C",
        "outputId": "4e1e37f4-4614-43ca-8649-028f4cdfc9e1"
      },
      "source": [
        "!pip install language-check pycontractions"
      ],
      "execution_count": 3,
      "outputs": [
        {
          "output_type": "stream",
          "text": [
            "Collecting language-check\n",
            "  Downloading https://files.pythonhosted.org/packages/97/45/0fd1d3683d6129f30fa09143fa383cdf6dff8bc0d1648f2cf156109cb772/language-check-1.1.tar.gz\n",
            "Collecting pycontractions\n",
            "  Downloading https://files.pythonhosted.org/packages/a6/f5/d3ec9491c530cbc03af32ca2c6b69b0e89660daeb2856b485d90f9d82e5e/pycontractions-2.0.1-py3-none-any.whl\n",
            "Requirement already satisfied: gensim>=2.0 in /usr/local/lib/python3.7/dist-packages (from pycontractions) (3.6.0)\n",
            "Requirement already satisfied: pyemd>=0.4.4 in /usr/local/lib/python3.7/dist-packages (from pycontractions) (0.5.1)\n",
            "Requirement already satisfied: scipy>=0.18.1 in /usr/local/lib/python3.7/dist-packages (from gensim>=2.0->pycontractions) (1.4.1)\n",
            "Requirement already satisfied: smart-open>=1.2.1 in /usr/local/lib/python3.7/dist-packages (from gensim>=2.0->pycontractions) (5.1.0)\n",
            "Requirement already satisfied: numpy>=1.11.3 in /usr/local/lib/python3.7/dist-packages (from gensim>=2.0->pycontractions) (1.19.5)\n",
            "Requirement already satisfied: six>=1.5.0 in /usr/local/lib/python3.7/dist-packages (from gensim>=2.0->pycontractions) (1.15.0)\n",
            "Building wheels for collected packages: language-check\n",
            "  Building wheel for language-check (setup.py) ... \u001b[?25l\u001b[?25hdone\n",
            "  Created wheel for language-check: filename=language_check-1.1-cp37-none-any.whl size=90190916 sha256=de0999c72405d4f434d025cb3e604e4028f2c24a74318bbdc76d8ae21a5d300a\n",
            "  Stored in directory: /root/.cache/pip/wheels/d5/46/82/90a89c23eac1837364ed7217a9eed71bc9e6ad4825be93968e\n",
            "Successfully built language-check\n",
            "Installing collected packages: language-check, pycontractions\n",
            "Successfully installed language-check-1.1 pycontractions-2.0.1\n"
          ],
          "name": "stdout"
        }
      ]
    },
    {
      "cell_type": "code",
      "metadata": {
        "colab": {
          "base_uri": "https://localhost:8080/"
        },
        "id": "Hu18XmNZs0lo",
        "outputId": "92275802-f05a-4771-a627-48204546a9f9"
      },
      "source": [
        "import numpy as np\n",
        "import pandas as pd\n",
        "import re\n",
        "import matplotlib.pyplot as plt\n",
        "import nltk\n",
        "nltk.download('stopwords')\n",
        "from nltk.corpus import stopwords\n",
        "from bs4 import BeautifulSoup\n",
        "from tensorflow.keras.preprocessing.text import Tokenizer\n",
        "from tensorflow.keras.preprocessing.sequence import pad_sequences\n",
        "import urllib.request\n",
        "from pycontractions import Contractions\n",
        "\n",
        "np.random.seed(0)"
      ],
      "execution_count": 4,
      "outputs": [
        {
          "output_type": "stream",
          "text": [
            "[nltk_data] Downloading package stopwords to /root/nltk_data...\n",
            "[nltk_data]   Unzipping corpora/stopwords.zip.\n"
          ],
          "name": "stdout"
        }
      ]
    },
    {
      "cell_type": "code",
      "metadata": {
        "colab": {
          "base_uri": "https://localhost:8080/"
        },
        "id": "KGWvKgD0tcrY",
        "outputId": "93a16770-d28b-4263-91bc-fbfe6b579168"
      },
      "source": [
        "data = pd.read_csv('./Reviews.csv', engine='python', nrows=90000)\n",
        "print(len(data))"
      ],
      "execution_count": 5,
      "outputs": [
        {
          "output_type": "stream",
          "text": [
            "90000\n"
          ],
          "name": "stdout"
        }
      ]
    },
    {
      "cell_type": "code",
      "metadata": {
        "colab": {
          "base_uri": "https://localhost:8080/",
          "height": 666
        },
        "id": "qLgBBfcNuoL2",
        "outputId": "3a1b1813-f463-4d6d-e9ea-e6b23d73df7c"
      },
      "source": [
        "data.head()"
      ],
      "execution_count": 6,
      "outputs": [
        {
          "output_type": "execute_result",
          "data": {
            "text/html": [
              "<div>\n",
              "<style scoped>\n",
              "    .dataframe tbody tr th:only-of-type {\n",
              "        vertical-align: middle;\n",
              "    }\n",
              "\n",
              "    .dataframe tbody tr th {\n",
              "        vertical-align: top;\n",
              "    }\n",
              "\n",
              "    .dataframe thead th {\n",
              "        text-align: right;\n",
              "    }\n",
              "</style>\n",
              "<table border=\"1\" class=\"dataframe\">\n",
              "  <thead>\n",
              "    <tr style=\"text-align: right;\">\n",
              "      <th></th>\n",
              "      <th>Id</th>\n",
              "      <th>ProductId</th>\n",
              "      <th>UserId</th>\n",
              "      <th>ProfileName</th>\n",
              "      <th>HelpfulnessNumerator</th>\n",
              "      <th>HelpfulnessDenominator</th>\n",
              "      <th>Score</th>\n",
              "      <th>Time</th>\n",
              "      <th>Summary</th>\n",
              "      <th>Text</th>\n",
              "    </tr>\n",
              "  </thead>\n",
              "  <tbody>\n",
              "    <tr>\n",
              "      <th>0</th>\n",
              "      <td>1</td>\n",
              "      <td>B001E4KFG0</td>\n",
              "      <td>A3SGXH7AUHU8GW</td>\n",
              "      <td>delmartian</td>\n",
              "      <td>1</td>\n",
              "      <td>1</td>\n",
              "      <td>5</td>\n",
              "      <td>1303862400</td>\n",
              "      <td>Good Quality Dog Food</td>\n",
              "      <td>I have bought several of the Vitality canned d...</td>\n",
              "    </tr>\n",
              "    <tr>\n",
              "      <th>1</th>\n",
              "      <td>2</td>\n",
              "      <td>B00813GRG4</td>\n",
              "      <td>A1D87F6ZCVE5NK</td>\n",
              "      <td>dll pa</td>\n",
              "      <td>0</td>\n",
              "      <td>0</td>\n",
              "      <td>1</td>\n",
              "      <td>1346976000</td>\n",
              "      <td>Not as Advertised</td>\n",
              "      <td>Product arrived labeled as Jumbo Salted Peanut...</td>\n",
              "    </tr>\n",
              "    <tr>\n",
              "      <th>2</th>\n",
              "      <td>3</td>\n",
              "      <td>B000LQOCH0</td>\n",
              "      <td>ABXLMWJIXXAIN</td>\n",
              "      <td>Natalia Corres \"Natalia Corres\"</td>\n",
              "      <td>1</td>\n",
              "      <td>1</td>\n",
              "      <td>4</td>\n",
              "      <td>1219017600</td>\n",
              "      <td>\"Delight\" says it all</td>\n",
              "      <td>This is a confection that has been around a fe...</td>\n",
              "    </tr>\n",
              "    <tr>\n",
              "      <th>3</th>\n",
              "      <td>4</td>\n",
              "      <td>B000UA0QIQ</td>\n",
              "      <td>A395BORC6FGVXV</td>\n",
              "      <td>Karl</td>\n",
              "      <td>3</td>\n",
              "      <td>3</td>\n",
              "      <td>2</td>\n",
              "      <td>1307923200</td>\n",
              "      <td>Cough Medicine</td>\n",
              "      <td>If you are looking for the secret ingredient i...</td>\n",
              "    </tr>\n",
              "    <tr>\n",
              "      <th>4</th>\n",
              "      <td>5</td>\n",
              "      <td>B006K2ZZ7K</td>\n",
              "      <td>A1UQRSCLF8GW1T</td>\n",
              "      <td>Michael D. Bigham \"M. Wassir\"</td>\n",
              "      <td>0</td>\n",
              "      <td>0</td>\n",
              "      <td>5</td>\n",
              "      <td>1350777600</td>\n",
              "      <td>Great taffy</td>\n",
              "      <td>Great taffy at a great price.  There was a wid...</td>\n",
              "    </tr>\n",
              "  </tbody>\n",
              "</table>\n",
              "</div>"
            ],
            "text/plain": [
              "   Id  ...                                               Text\n",
              "0   1  ...  I have bought several of the Vitality canned d...\n",
              "1   2  ...  Product arrived labeled as Jumbo Salted Peanut...\n",
              "2   3  ...  This is a confection that has been around a fe...\n",
              "3   4  ...  If you are looking for the secret ingredient i...\n",
              "4   5  ...  Great taffy at a great price.  There was a wid...\n",
              "\n",
              "[5 rows x 10 columns]"
            ]
          },
          "metadata": {
            "tags": []
          },
          "execution_count": 6
        }
      ]
    },
    {
      "cell_type": "code",
      "metadata": {
        "colab": {
          "base_uri": "https://localhost:8080/",
          "height": 204
        },
        "id": "0Yy7eb2KuqfT",
        "outputId": "21c0b2c8-0728-4aa4-d03e-5dd196bcaf8b"
      },
      "source": [
        "data = data[['Text', 'Summary']]\n",
        "data.head()"
      ],
      "execution_count": 7,
      "outputs": [
        {
          "output_type": "execute_result",
          "data": {
            "text/html": [
              "<div>\n",
              "<style scoped>\n",
              "    .dataframe tbody tr th:only-of-type {\n",
              "        vertical-align: middle;\n",
              "    }\n",
              "\n",
              "    .dataframe tbody tr th {\n",
              "        vertical-align: top;\n",
              "    }\n",
              "\n",
              "    .dataframe thead th {\n",
              "        text-align: right;\n",
              "    }\n",
              "</style>\n",
              "<table border=\"1\" class=\"dataframe\">\n",
              "  <thead>\n",
              "    <tr style=\"text-align: right;\">\n",
              "      <th></th>\n",
              "      <th>Text</th>\n",
              "      <th>Summary</th>\n",
              "    </tr>\n",
              "  </thead>\n",
              "  <tbody>\n",
              "    <tr>\n",
              "      <th>0</th>\n",
              "      <td>I have bought several of the Vitality canned d...</td>\n",
              "      <td>Good Quality Dog Food</td>\n",
              "    </tr>\n",
              "    <tr>\n",
              "      <th>1</th>\n",
              "      <td>Product arrived labeled as Jumbo Salted Peanut...</td>\n",
              "      <td>Not as Advertised</td>\n",
              "    </tr>\n",
              "    <tr>\n",
              "      <th>2</th>\n",
              "      <td>This is a confection that has been around a fe...</td>\n",
              "      <td>\"Delight\" says it all</td>\n",
              "    </tr>\n",
              "    <tr>\n",
              "      <th>3</th>\n",
              "      <td>If you are looking for the secret ingredient i...</td>\n",
              "      <td>Cough Medicine</td>\n",
              "    </tr>\n",
              "    <tr>\n",
              "      <th>4</th>\n",
              "      <td>Great taffy at a great price.  There was a wid...</td>\n",
              "      <td>Great taffy</td>\n",
              "    </tr>\n",
              "  </tbody>\n",
              "</table>\n",
              "</div>"
            ],
            "text/plain": [
              "                                                Text                Summary\n",
              "0  I have bought several of the Vitality canned d...  Good Quality Dog Food\n",
              "1  Product arrived labeled as Jumbo Salted Peanut...      Not as Advertised\n",
              "2  This is a confection that has been around a fe...  \"Delight\" says it all\n",
              "3  If you are looking for the secret ingredient i...         Cough Medicine\n",
              "4  Great taffy at a great price.  There was a wid...            Great taffy"
            ]
          },
          "metadata": {
            "tags": []
          },
          "execution_count": 7
        }
      ]
    },
    {
      "cell_type": "code",
      "metadata": {
        "colab": {
          "base_uri": "https://localhost:8080/"
        },
        "id": "pUrymnofuunf",
        "outputId": "74274879-f32a-4aad-a31f-e4f31d024424"
      },
      "source": [
        "# 중복 샘플 제거\n",
        "data.drop_duplicates(subset=['Text'], inplace=True)\n",
        "len(data)"
      ],
      "execution_count": 8,
      "outputs": [
        {
          "output_type": "execute_result",
          "data": {
            "text/plain": [
              "80201"
            ]
          },
          "metadata": {
            "tags": []
          },
          "execution_count": 8
        }
      ]
    },
    {
      "cell_type": "code",
      "metadata": {
        "colab": {
          "base_uri": "https://localhost:8080/"
        },
        "id": "HR2GOmNMvKu4",
        "outputId": "6cb33126-1cbf-4c94-9f55-9959423f804a"
      },
      "source": [
        "# null 샘플 제거\n",
        "data.dropna(axis=0, inplace=True)\n",
        "len(data)"
      ],
      "execution_count": 9,
      "outputs": [
        {
          "output_type": "execute_result",
          "data": {
            "text/plain": [
              "80200"
            ]
          },
          "metadata": {
            "tags": []
          },
          "execution_count": 9
        }
      ]
    },
    {
      "cell_type": "code",
      "metadata": {
        "colab": {
          "base_uri": "https://localhost:8080/"
        },
        "id": "uoopa9kzvZsl",
        "outputId": "f48f3cdd-49a4-4fb4-9fec-c6ea3932e1f6"
      },
      "source": [
        "cont = Contractions(api_key=\"glove-twitter-100\")\n",
        "cont.load_models()"
      ],
      "execution_count": 10,
      "outputs": [
        {
          "output_type": "stream",
          "text": [
            "[==================================================] 100.0% 387.1/387.1MB downloaded\n"
          ],
          "name": "stdout"
        }
      ]
    },
    {
      "cell_type": "code",
      "metadata": {
        "colab": {
          "base_uri": "https://localhost:8080/"
        },
        "id": "C8iyqCH-xy61",
        "outputId": "d3067d40-21c7-4743-8e86-f4aec0eb8b56"
      },
      "source": [
        "# Constraction 모듈 테스트\n",
        "list(cont.expand_texts([\"I'd like to know how I'd done that!\",\n",
        "                        \"We're going to the zoo and I don't think I'll be home for dinner.\",\n",
        "                        \"Theyre going to the zoo and she'll be home for dinner.\"]))"
      ],
      "execution_count": 11,
      "outputs": [
        {
          "output_type": "execute_result",
          "data": {
            "text/plain": [
              "['I had like to know how I had done that!',\n",
              " 'we are going to the zoo and I do not think I will be home for dinner.',\n",
              " 'they are going to the zoo and she will be home for dinner.']"
            ]
          },
          "metadata": {
            "tags": []
          },
          "execution_count": 11
        }
      ]
    },
    {
      "cell_type": "code",
      "metadata": {
        "id": "XJUvT7drygja"
      },
      "source": [
        "stop_words = set(stopwords.words('english'))\n",
        "\n",
        "def preprocess_sentence(sentence, remove_stopwords=True):\n",
        "  sentence = sentence.lower()\n",
        "  sentence = BeautifulSoup(sentence, 'lxml').text\n",
        "  sentence = re.sub(r'\\([^)]*\\)', '', sentence)\n",
        "  sentence = re.sub('\"','', sentence)\n",
        "  sentence = list(cont.expand_texts([sentence]))[0]\n",
        "  sentence = re.sub(r\"'s\\b\",\"\", sentence) \n",
        "  sentence = re.sub(\"[^a-zA-Z]\", \" \", sentence) \n",
        "  sentence = re.sub('[m]{2,}', 'mm', sentence)\n",
        "\n",
        "  # 불용어 제거 (Text)\n",
        "  if remove_stopwords:\n",
        "    tokens = ' '.join(word for word in sentence.split() if not word in stop_words if len(word) > 1)\n",
        "  # 불용어 미제거 (Summary)\n",
        "  else:\n",
        "    tokens = ' '.join(word for word in sentence.split() if len(word) > 1)\n",
        "  return tokens"
      ],
      "execution_count": 12,
      "outputs": []
    },
    {
      "cell_type": "code",
      "metadata": {
        "colab": {
          "base_uri": "https://localhost:8080/"
        },
        "id": "Xy2MBYHSzlJ8",
        "outputId": "2e25ff78-bf82-441e-fa2b-df87515c354b"
      },
      "source": [
        "# text열 전처리\n",
        "clean_text = [preprocess_sentence(s) for s in data['Text']]\n",
        "clean_text[:5]"
      ],
      "execution_count": 13,
      "outputs": [
        {
          "output_type": "execute_result",
          "data": {
            "text/plain": [
              "['bought several vitality canned dog food products found good quality product looks like stew processed meat smells better labrador finicky appreciates product better',\n",
              " 'product arrived labeled jumbo salted peanuts peanuts actually small sized unsalted sure error vendor intended represent product jumbo',\n",
              " 'confection around centuries light pillowy citrus gelatin nuts case filberts cut tiny squares liberally coated powdered sugar tiny mouthful heaven chewy flavorful highly recommend yummy treat familiar story lewis lion witch wardrobe treat seduces edmund selling brother sisters witch',\n",
              " 'looking secret ingredient robitussin believe found got addition root beer extract ordered made cherry soda flavor medicinal',\n",
              " 'great taffy great price wide assortment yummy taffy delivery quick taffy lover deal']"
            ]
          },
          "metadata": {
            "tags": []
          },
          "execution_count": 13
        }
      ]
    },
    {
      "cell_type": "code",
      "metadata": {
        "colab": {
          "base_uri": "https://localhost:8080/"
        },
        "id": "0zuEDqpx0hjI",
        "outputId": "2c0a504b-c8db-4c86-ac67-878e212f7e2b"
      },
      "source": [
        "clean_summary = [preprocess_sentence(s, 0) for s in data['Summary']]\n",
        "clean_summary[:5]"
      ],
      "execution_count": 14,
      "outputs": [
        {
          "output_type": "stream",
          "text": [
            "/usr/local/lib/python3.7/dist-packages/bs4/__init__.py:336: UserWarning: \"http://www.amazon.com/gp/product/b007i7yygy/ref=cm_cr_rev_prod_title\" looks like a URL. Beautiful Soup is not an HTTP client. You should probably use an HTTP client like requests to get the document behind the URL, and feed that document to Beautiful Soup.\n",
            "  ' that document to Beautiful Soup.' % decoded_markup\n"
          ],
          "name": "stderr"
        },
        {
          "output_type": "execute_result",
          "data": {
            "text/plain": [
              "['good quality dog food',\n",
              " 'not as advertised',\n",
              " 'delight says it all',\n",
              " 'cough medicine',\n",
              " 'great taffy']"
            ]
          },
          "metadata": {
            "tags": []
          },
          "execution_count": 14
        }
      ]
    },
    {
      "cell_type": "code",
      "metadata": {
        "id": "L9f77fW23cNh"
      },
      "source": [
        "data['Text'] = clean_text\n",
        "data['Summary'] = clean_summary"
      ],
      "execution_count": 15,
      "outputs": []
    },
    {
      "cell_type": "code",
      "metadata": {
        "id": "O4X8dsR13kwJ"
      },
      "source": [
        "data.replace('', np.nan, inplace=True)\n",
        "data.dropna(axis = 0, inplace = True)"
      ],
      "execution_count": 16,
      "outputs": []
    },
    {
      "cell_type": "code",
      "metadata": {
        "colab": {
          "base_uri": "https://localhost:8080/",
          "height": 853
        },
        "id": "ULuCOaIg3mu3",
        "outputId": "d9063cc1-8881-491f-8aca-be5166c4873f"
      },
      "source": [
        "text_len = [len(s.split()) for s in data['Text']]\n",
        "summary_len = [len(s.split()) for s in data['Summary']]\n",
        "\n",
        "plt.subplot(1,2,1)\n",
        "plt.boxplot(summary_len)\n",
        "plt.title('Summary')\n",
        "plt.subplot(1,2,2)\n",
        "plt.boxplot(text_len)\n",
        "plt.title('Text')\n",
        "plt.tight_layout()\n",
        "plt.show()\n",
        "\n",
        "plt.title('Summary')\n",
        "plt.hist(summary_len, bins=40)\n",
        "plt.xlabel('length of samples')\n",
        "plt.ylabel('number of samples')\n",
        "plt.show()\n",
        "\n",
        "plt.title('Text')\n",
        "plt.hist(text_len, bins=40)\n",
        "plt.xlabel('length of samples')\n",
        "plt.ylabel('number of samples')\n",
        "plt.show()"
      ],
      "execution_count": 33,
      "outputs": [
        {
          "output_type": "display_data",
          "data": {
            "image/png": "[encoded data removed]",
            "text/plain": [
              "<Figure size 432x288 with 2 Axes>"
            ]
          },
          "metadata": {
            "tags": [],
            "needs_background": "light"
          }
        },
        {
          "output_type": "display_data",
          "data": {
            "image/png": "[encoded data removed]",
            "text/plain": [
              "<Figure size 432x288 with 1 Axes>"
            ]
          },
          "metadata": {
            "tags": [],
            "needs_background": "light"
          }
        },
        {
          "output_type": "display_data",
          "data": {
            "image/png": "[encoded data removed]",
            "text/plain": [
              "<Figure size 432x288 with 1 Axes>"
            ]
          },
          "metadata": {
            "tags": [],
            "needs_background": "light"
          }
        }
      ]
    },
    {
      "cell_type": "code",
      "metadata": {
        "id": "P-JSLZsQ3rhp"
      },
      "source": [
        "text_max_len = 50\n",
        "summary_max_len = 8\n",
        "\n",
        "data = data[data['Text'].apply(lambda x: len(x.split()) <= text_max_len)]\n",
        "data = data[data['Summary'].apply(lambda x: len(x.split()) <= summary_max_len)]"
      ],
      "execution_count": 34,
      "outputs": []
    },
    {
      "cell_type": "code",
      "metadata": {
        "colab": {
          "base_uri": "https://localhost:8080/",
          "height": 289
        },
        "id": "7Q7VGSb0abnD",
        "outputId": "aa2a727a-3620-4c57-ee3c-a1f33f84accd"
      },
      "source": [
        "# 디코더 인풋에 시작 / 종료 토큰 추가\n",
        "data['decoder_input'] = data['Summary'].apply(lambda x : 'sostoken '+ x)\n",
        "data['decoder_target'] = data['Summary'].apply(lambda x : x + ' eostoken')\n",
        "data.head()"
      ],
      "execution_count": 19,
      "outputs": [
        {
          "output_type": "execute_result",
          "data": {
            "text/html": [
              "<div>\n",
              "<style scoped>\n",
              "    .dataframe tbody tr th:only-of-type {\n",
              "        vertical-align: middle;\n",
              "    }\n",
              "\n",
              "    .dataframe tbody tr th {\n",
              "        vertical-align: top;\n",
              "    }\n",
              "\n",
              "    .dataframe thead th {\n",
              "        text-align: right;\n",
              "    }\n",
              "</style>\n",
              "<table border=\"1\" class=\"dataframe\">\n",
              "  <thead>\n",
              "    <tr style=\"text-align: right;\">\n",
              "      <th></th>\n",
              "      <th>Text</th>\n",
              "      <th>Summary</th>\n",
              "      <th>decoder_input</th>\n",
              "      <th>decoder_target</th>\n",
              "    </tr>\n",
              "  </thead>\n",
              "  <tbody>\n",
              "    <tr>\n",
              "      <th>0</th>\n",
              "      <td>bought several vitality canned dog food produc...</td>\n",
              "      <td>good quality dog food</td>\n",
              "      <td>sostoken good quality dog food</td>\n",
              "      <td>good quality dog food eostoken</td>\n",
              "    </tr>\n",
              "    <tr>\n",
              "      <th>1</th>\n",
              "      <td>product arrived labeled jumbo salted peanuts p...</td>\n",
              "      <td>not as advertised</td>\n",
              "      <td>sostoken not as advertised</td>\n",
              "      <td>not as advertised eostoken</td>\n",
              "    </tr>\n",
              "    <tr>\n",
              "      <th>2</th>\n",
              "      <td>confection around centuries light pillowy citr...</td>\n",
              "      <td>delight says it all</td>\n",
              "      <td>sostoken delight says it all</td>\n",
              "      <td>delight says it all eostoken</td>\n",
              "    </tr>\n",
              "    <tr>\n",
              "      <th>3</th>\n",
              "      <td>looking secret ingredient robitussin believe f...</td>\n",
              "      <td>cough medicine</td>\n",
              "      <td>sostoken cough medicine</td>\n",
              "      <td>cough medicine eostoken</td>\n",
              "    </tr>\n",
              "    <tr>\n",
              "      <th>4</th>\n",
              "      <td>great taffy great price wide assortment yummy ...</td>\n",
              "      <td>great taffy</td>\n",
              "      <td>sostoken great taffy</td>\n",
              "      <td>great taffy eostoken</td>\n",
              "    </tr>\n",
              "  </tbody>\n",
              "</table>\n",
              "</div>"
            ],
            "text/plain": [
              "                                                Text  ...                  decoder_target\n",
              "0  bought several vitality canned dog food produc...  ...  good quality dog food eostoken\n",
              "1  product arrived labeled jumbo salted peanuts p...  ...      not as advertised eostoken\n",
              "2  confection around centuries light pillowy citr...  ...    delight says it all eostoken\n",
              "3  looking secret ingredient robitussin believe f...  ...         cough medicine eostoken\n",
              "4  great taffy great price wide assortment yummy ...  ...            great taffy eostoken\n",
              "\n",
              "[5 rows x 4 columns]"
            ]
          },
          "metadata": {
            "tags": []
          },
          "execution_count": 19
        }
      ]
    },
    {
      "cell_type": "code",
      "metadata": {
        "id": "Zdq6TCF3ac-6"
      },
      "source": [
        "# 데이터 \n",
        "encoder_input = np.array(data['Text'])\n",
        "decoder_input = np.array(data['decoder_input'])\n",
        "decoder_target = np.array(data['decoder_target'])\n",
        "\n",
        "indices = np.arange(encoder_input.shape[0])\n",
        "np.random.shuffle(indices)\n",
        "\n",
        "encoder_input = encoder_input[indices]\n",
        "decoder_input = decoder_input[indices]\n",
        "decoder_target = decoder_target[indices]\n",
        "\n",
        "# 훈련 데이터, 테스트 데이터 분리\n",
        "n_of_val = int(len(encoder_input)*0.2)\n",
        "\n",
        "encoder_input_train = encoder_input[:-n_of_val]\n",
        "decoder_input_train = decoder_input[:-n_of_val]\n",
        "decoder_target_train = decoder_target[:-n_of_val]\n",
        "\n",
        "encoder_input_test = encoder_input[-n_of_val:]\n",
        "decoder_input_test = decoder_input[-n_of_val:]\n",
        "decoder_target_test = decoder_target[-n_of_val:]"
      ],
      "execution_count": 40,
      "outputs": []
    },
    {
      "cell_type": "code",
      "metadata": {
        "id": "G3rbfTcOaf-c"
      },
      "source": [
        "# text -> token\n",
        "src_vocab = 8000\n",
        "src_tokenizer = Tokenizer(num_words=src_vocab)\n",
        "src_tokenizer.fit_on_texts(encoder_input_train)\n",
        "\n",
        "encoder_input_train = src_tokenizer.texts_to_sequences(encoder_input_train) \n",
        "encoder_input_test = src_tokenizer.texts_to_sequences(encoder_input_test)\n",
        "\n",
        "tar_vocab = 2000\n",
        "tar_tokenizer = Tokenizer(num_words=tar_vocab) \n",
        "tar_tokenizer.fit_on_texts(decoder_input_train)\n",
        "tar_tokenizer.fit_on_texts(decoder_target_train)\n",
        "\n",
        "decoder_input_train = tar_tokenizer.texts_to_sequences(decoder_input_train) \n",
        "decoder_target_train = tar_tokenizer.texts_to_sequences(decoder_target_train)\n",
        "decoder_input_test = tar_tokenizer.texts_to_sequences(decoder_input_test)\n",
        "decoder_target_test = tar_tokenizer.texts_to_sequences(decoder_target_test)"
      ],
      "execution_count": 41,
      "outputs": []
    },
    {
      "cell_type": "code",
      "metadata": {
        "colab": {
          "base_uri": "https://localhost:8080/"
        },
        "id": "ht0lOW8zakxf",
        "outputId": "fa3f14a3-aa40-4362-b37b-7af8ff416c13"
      },
      "source": [
        "drop_train = [index for index, sentence in enumerate(decoder_input_train) if len(sentence) == 1]\n",
        "drop_test = [index for index, sentence in enumerate(decoder_input_test) if len(sentence) == 1]\n",
        "\n",
        "encoder_input_train = np.delete(encoder_input_train, drop_train, axis=0)\n",
        "decoder_input_train = np.delete(decoder_input_train, drop_train, axis=0)\n",
        "decoder_target_train = np.delete(decoder_target_train, drop_train, axis=0)\n",
        "\n",
        "encoder_input_test = np.delete(encoder_input_test, drop_test, axis=0)\n",
        "decoder_input_test = np.delete(decoder_input_test, drop_test, axis=0)\n",
        "decoder_target_test = np.delete(decoder_target_test, drop_test, axis=0)\n",
        "\n",
        "print('훈련 데이터의 개수 :', len(encoder_input_train))\n",
        "print('훈련 레이블의 개수 :',len(decoder_input_train))\n",
        "print('테스트 데이터의 개수 :',len(encoder_input_test))\n",
        "print('테스트 레이블의 개수 :',len(decoder_input_test))"
      ],
      "execution_count": 42,
      "outputs": [
        {
          "output_type": "stream",
          "text": [
            "훈련 데이터의 개수 : 46669\n",
            "훈련 레이블의 개수 : 46669\n",
            "테스트 데이터의 개수 : 11636\n",
            "테스트 레이블의 개수 : 11636\n"
          ],
          "name": "stdout"
        },
        {
          "output_type": "stream",
          "text": [
            "/usr/local/lib/python3.7/dist-packages/numpy/core/_asarray.py:83: VisibleDeprecationWarning: Creating an ndarray from ragged nested sequences (which is a list-or-tuple of lists-or-tuples-or ndarrays with different lengths or shapes) is deprecated. If you meant to do this, you must specify 'dtype=object' when creating the ndarray\n",
            "  return array(a, dtype, copy=False, order=order)\n"
          ],
          "name": "stderr"
        }
      ]
    },
    {
      "cell_type": "code",
      "metadata": {
        "id": "Aya0AaK7amXU"
      },
      "source": [
        "encoder_input_train = pad_sequences(encoder_input_train, maxlen = text_max_len, padding='post')\n",
        "encoder_input_test = pad_sequences(encoder_input_test, maxlen = text_max_len, padding='post')\n",
        "decoder_input_train = pad_sequences(decoder_input_train, maxlen = summary_max_len, padding='post')\n",
        "decoder_target_train = pad_sequences(decoder_target_train, maxlen = summary_max_len, padding='post')\n",
        "decoder_input_test = pad_sequences(decoder_input_test, maxlen = summary_max_len, padding='post')\n",
        "decoder_target_test = pad_sequences(decoder_target_test, maxlen = summary_max_len, padding='post')"
      ],
      "execution_count": 43,
      "outputs": []
    },
    {
      "cell_type": "code",
      "metadata": {
        "id": "YgOve8v9anl0"
      },
      "source": [
        "# 모델\n",
        "from tensorflow.keras.layers import Input, LSTM, Embedding, Dense, Concatenate\n",
        "from tensorflow.keras.models import Model\n",
        "from tensorflow.keras.callbacks import EarlyStopping, ModelCheckpoint"
      ],
      "execution_count": 24,
      "outputs": []
    },
    {
      "cell_type": "code",
      "metadata": {
        "colab": {
          "base_uri": "https://localhost:8080/"
        },
        "id": "ZnXGBNcqaorH",
        "outputId": "c2163693-e6d4-4cfa-ffac-e8b61925854d"
      },
      "source": [
        "embedding_dim = 128\n",
        "hidden_size = 256\n",
        "\n",
        "# 인코더\n",
        "encoder_inputs = Input(shape=(text_max_len,))\n",
        "\n",
        "# 임베딩 층\n",
        "enc_emb = Embedding(src_vocab, embedding_dim)(encoder_inputs)\n",
        "\n",
        "# LSTM 1\n",
        "encoder_lstm1 = LSTM(hidden_size, return_sequences=True, return_state=True ,dropout = 0.4, recurrent_dropout = 0.4)\n",
        "encoder_output1, state_h1, state_c1 = encoder_lstm1(enc_emb)\n",
        "\n",
        "# LSTM 2\n",
        "encoder_lstm2 = LSTM(hidden_size, return_sequences=True, return_state=True, dropout=0.4, recurrent_dropout=0.4)\n",
        "encoder_output2, state_h2, state_c2 = encoder_lstm2(encoder_output1)\n",
        "\n",
        "# LSTM 3\n",
        "encoder_lstm3 = LSTM(hidden_size, return_state=True, return_sequences=True, dropout=0.4, recurrent_dropout=0.4)\n",
        "encoder_outputs, state_h, state_c= encoder_lstm3(encoder_output2)\n",
        "\n",
        "# 디코더\n",
        "decoder_inputs = Input(shape=(None,))\n",
        "\n",
        "# 임베딩 층\n",
        "dec_emb_layer = Embedding(tar_vocab, embedding_dim)\n",
        "dec_emb = dec_emb_layer(decoder_inputs)\n",
        "\n",
        "# LSTM\n",
        "decoder_lstm = LSTM(hidden_size, return_sequences = True, return_state = True, dropout = 0.4, recurrent_dropout=0.2)\n",
        "decoder_outputs, _, _ = decoder_lstm(dec_emb, initial_state = [state_h, state_c])\n",
        "\n",
        "# 출력층\n",
        "decoder_softmax_layer = Dense(tar_vocab, activation = 'softmax')\n",
        "decoder_softmax_outputs = decoder_softmax_layer(decoder_outputs) \n",
        "\n",
        "model = Model([encoder_inputs, decoder_inputs], decoder_softmax_outputs)"
      ],
      "execution_count": 25,
      "outputs": [
        {
          "output_type": "stream",
          "text": [
            "WARNING:tensorflow:Layer lstm will not use cuDNN kernels since it doesn't meet the criteria. It will use a generic GPU kernel as fallback when running on GPU.\n",
            "WARNING:tensorflow:Layer lstm_1 will not use cuDNN kernels since it doesn't meet the criteria. It will use a generic GPU kernel as fallback when running on GPU.\n",
            "WARNING:tensorflow:Layer lstm_2 will not use cuDNN kernels since it doesn't meet the criteria. It will use a generic GPU kernel as fallback when running on GPU.\n",
            "WARNING:tensorflow:Layer lstm_3 will not use cuDNN kernels since it doesn't meet the criteria. It will use a generic GPU kernel as fallback when running on GPU.\n"
          ],
          "name": "stdout"
        }
      ]
    },
    {
      "cell_type": "code",
      "metadata": {
        "colab": {
          "base_uri": "https://localhost:8080/"
        },
        "id": "G4IKgGRTar61",
        "outputId": "7c8c8ecf-dfe4-4f6b-c804-43b189963220"
      },
      "source": [
        "# attention layer 추가\n",
        "urllib.request.urlretrieve(\"https://raw.githubusercontent.com/thushv89/attention_keras/master/src/layers/attention.py\", filename=\"attention.py\")\n",
        "from attention import AttentionLayer\n",
        "\n",
        "attn_layer = AttentionLayer(name='attention_layer')\n",
        "attn_out, attn_states = attn_layer([encoder_outputs, decoder_outputs])\n",
        "\n",
        "decoder_concat_input = Concatenate(axis = -1, name='concat_layer')([decoder_outputs, attn_out])\n",
        "\n",
        "decoder_softmax_layer = Dense(tar_vocab, activation='softmax')\n",
        "decoder_softmax_outputs = decoder_softmax_layer(decoder_concat_input)\n",
        "\n",
        "# 모델 정의\n",
        "model = Model([encoder_inputs, decoder_inputs], decoder_softmax_outputs)\n",
        "model.summary()"
      ],
      "execution_count": 26,
      "outputs": [
        {
          "output_type": "stream",
          "text": [
            "Model: \"model_1\"\n",
            "__________________________________________________________________________________________________\n",
            "Layer (type)                    Output Shape         Param #     Connected to                     \n",
            "==================================================================================================\n",
            "input_1 (InputLayer)            [(None, 50)]         0                                            \n",
            "__________________________________________________________________________________________________\n",
            "embedding (Embedding)           (None, 50, 128)      1024000     input_1[0][0]                    \n",
            "__________________________________________________________________________________________________\n",
            "lstm (LSTM)                     [(None, 50, 256), (N 394240      embedding[0][0]                  \n",
            "__________________________________________________________________________________________________\n",
            "input_2 (InputLayer)            [(None, None)]       0                                            \n",
            "__________________________________________________________________________________________________\n",
            "lstm_1 (LSTM)                   [(None, 50, 256), (N 525312      lstm[0][0]                       \n",
            "__________________________________________________________________________________________________\n",
            "embedding_1 (Embedding)         (None, None, 128)    256000      input_2[0][0]                    \n",
            "__________________________________________________________________________________________________\n",
            "lstm_2 (LSTM)                   [(None, 50, 256), (N 525312      lstm_1[0][0]                     \n",
            "__________________________________________________________________________________________________\n",
            "lstm_3 (LSTM)                   [(None, None, 256),  394240      embedding_1[0][0]                \n",
            "                                                                 lstm_2[0][1]                     \n",
            "                                                                 lstm_2[0][2]                     \n",
            "__________________________________________________________________________________________________\n",
            "attention_layer (AttentionLayer ((None, None, 256),  131328      lstm_2[0][0]                     \n",
            "                                                                 lstm_3[0][0]                     \n",
            "__________________________________________________________________________________________________\n",
            "concat_layer (Concatenate)      (None, None, 512)    0           lstm_3[0][0]                     \n",
            "                                                                 attention_layer[0][0]            \n",
            "__________________________________________________________________________________________________\n",
            "dense_1 (Dense)                 (None, None, 2000)   1026000     concat_layer[0][0]               \n",
            "==================================================================================================\n",
            "Total params: 4,276,432\n",
            "Trainable params: 4,276,432\n",
            "Non-trainable params: 0\n",
            "__________________________________________________________________________________________________\n"
          ],
          "name": "stdout"
        }
      ]
    },
    {
      "cell_type": "code",
      "metadata": {
        "id": "qUQdY82JaxBh"
      },
      "source": [
        "model.compile(optimizer='rmsprop', loss='sparse_categorical_crossentropy')"
      ],
      "execution_count": 27,
      "outputs": []
    },
    {
      "cell_type": "code",
      "metadata": {
        "colab": {
          "base_uri": "https://localhost:8080/"
        },
        "id": "dk6dsLLNay49",
        "outputId": "b0ff746d-2bd0-41ca-d1d9-80c4ea5fd388"
      },
      "source": [
        "es = EarlyStopping(monitor='val_loss', mode='min', verbose=1, patience = 2)\n",
        "history = model.fit(x = [encoder_input_train, decoder_input_train], y = decoder_target_train, \\\n",
        "          validation_data = ([encoder_input_test, decoder_input_test], decoder_target_test),\n",
        "          batch_size = 256, callbacks=[es], epochs = 50)"
      ],
      "execution_count": 28,
      "outputs": [
        {
          "output_type": "stream",
          "text": [
            "Epoch 1/50\n",
            "183/183 [==============================] - 136s 675ms/step - loss: 2.7220 - val_loss: 2.4310\n",
            "Epoch 2/50\n",
            "183/183 [==============================] - 123s 673ms/step - loss: 2.4121 - val_loss: 2.3359\n",
            "Epoch 3/50\n",
            "183/183 [==============================] - 120s 658ms/step - loss: 2.2800 - val_loss: 2.1954\n",
            "Epoch 4/50\n",
            "183/183 [==============================] - 118s 645ms/step - loss: 2.1574 - val_loss: 2.1000\n",
            "Epoch 5/50\n",
            "183/183 [==============================] - 118s 644ms/step - loss: 2.0662 - val_loss: 2.0660\n",
            "Epoch 6/50\n",
            "183/183 [==============================] - 118s 644ms/step - loss: 1.9981 - val_loss: 2.0236\n",
            "Epoch 7/50\n",
            "183/183 [==============================] - 118s 643ms/step - loss: 1.9429 - val_loss: 1.9678\n",
            "Epoch 8/50\n",
            "183/183 [==============================] - 118s 645ms/step - loss: 1.8945 - val_loss: 1.9458\n",
            "Epoch 9/50\n",
            "183/183 [==============================] - 118s 647ms/step - loss: 1.8522 - val_loss: 1.9284\n",
            "Epoch 10/50\n",
            "183/183 [==============================] - 118s 645ms/step - loss: 1.8134 - val_loss: 1.9102\n",
            "Epoch 11/50\n",
            "183/183 [==============================] - 118s 643ms/step - loss: 1.7783 - val_loss: 1.9013\n",
            "Epoch 12/50\n",
            "183/183 [==============================] - 118s 642ms/step - loss: 1.7454 - val_loss: 1.8868\n",
            "Epoch 13/50\n",
            "183/183 [==============================] - 117s 638ms/step - loss: 1.7159 - val_loss: 1.8851\n",
            "Epoch 14/50\n",
            "183/183 [==============================] - 116s 635ms/step - loss: 1.6865 - val_loss: 1.8754\n",
            "Epoch 15/50\n",
            "183/183 [==============================] - 118s 644ms/step - loss: 1.6590 - val_loss: 1.8849\n",
            "Epoch 16/50\n",
            "183/183 [==============================] - 119s 650ms/step - loss: 1.6342 - val_loss: 1.8705\n",
            "Epoch 17/50\n",
            "183/183 [==============================] - 117s 639ms/step - loss: 1.6087 - val_loss: 1.8744\n",
            "Epoch 18/50\n",
            "183/183 [==============================] - 117s 641ms/step - loss: 1.5853 - val_loss: 1.8683\n",
            "Epoch 19/50\n",
            "183/183 [==============================] - 118s 644ms/step - loss: 1.5618 - val_loss: 1.8694\n",
            "Epoch 20/50\n",
            "183/183 [==============================] - 117s 640ms/step - loss: 1.5395 - val_loss: 1.8671\n",
            "Epoch 21/50\n",
            "183/183 [==============================] - 118s 642ms/step - loss: 1.5181 - val_loss: 1.8696\n",
            "Epoch 22/50\n",
            "183/183 [==============================] - 117s 639ms/step - loss: 1.4968 - val_loss: 1.8754\n",
            "Epoch 00022: early stopping\n"
          ],
          "name": "stdout"
        }
      ]
    },
    {
      "cell_type": "code",
      "metadata": {
        "colab": {
          "base_uri": "https://localhost:8080/",
          "height": 265
        },
        "id": "HHhfRRwMa0PR",
        "outputId": "5c83549d-f4a7-4324-f747-bfd2e79acb11"
      },
      "source": [
        "plt.plot(history.history['loss'], label='train')\n",
        "plt.plot(history.history['val_loss'], label='test')\n",
        "plt.legend()\n",
        "plt.show()"
      ],
      "execution_count": 29,
      "outputs": [
        {
          "output_type": "display_data",
          "data": {
            "image/png": "[encoded data removed]",
            "text/plain": [
              "<Figure size 432x288 with 1 Axes>"
            ]
          },
          "metadata": {
            "tags": [],
            "needs_background": "light"
          }
        }
      ]
    },
    {
      "cell_type": "code",
      "metadata": {
        "id": "j44Gjxidb1t3"
      },
      "source": [
        "# test 모델 \n",
        "src_index_to_word = src_tokenizer.index_word \n",
        "tar_word_to_index = tar_tokenizer.word_index \n",
        "tar_index_to_word = tar_tokenizer.index_word \n",
        "\n",
        "encoder_model = Model(inputs=encoder_inputs, outputs=[encoder_outputs, state_h, state_c])\n",
        "\n",
        "decoder_state_input_h = Input(shape=(hidden_size,))\n",
        "decoder_state_input_c = Input(shape=(hidden_size,))\n",
        "\n",
        "dec_emb2 = dec_emb_layer(decoder_inputs)\n",
        "decoder_outputs2, state_h2, state_c2 = decoder_lstm(dec_emb2, initial_state=[decoder_state_input_h, decoder_state_input_c])\n",
        "\n",
        "# 어텐션 함수\n",
        "decoder_hidden_state_input = Input(shape=(text_max_len, hidden_size))\n",
        "attn_out_inf, attn_states_inf = attn_layer([decoder_hidden_state_input, decoder_outputs2])\n",
        "decoder_inf_concat = Concatenate(axis=-1, name='concat')([decoder_outputs2, attn_out_inf])\n",
        "\n",
        "decoder_outputs2 = decoder_softmax_layer(decoder_inf_concat) \n",
        "\n",
        "# 디코더 모델\n",
        "decoder_model = Model(\n",
        "    [decoder_inputs] + [decoder_hidden_state_input,decoder_state_input_h, decoder_state_input_c],\n",
        "    [decoder_outputs2] + [state_h2, state_c2])"
      ],
      "execution_count": 30,
      "outputs": []
    },
    {
      "cell_type": "code",
      "metadata": {
        "id": "V1Y0jzSUb97n"
      },
      "source": [
        "def decode_sequence(input_seq):\n",
        "    e_out, e_h, e_c = encoder_model.predict(input_seq)\n",
        "\n",
        "    target_seq = np.zeros((1,1))\n",
        "    target_seq[0, 0] = tar_word_to_index['sostoken']\n",
        "\n",
        "    stop_condition = False\n",
        "    decoded_sentence = ''\n",
        "    while not stop_condition:\n",
        "\n",
        "        output_tokens, h, c = decoder_model.predict([target_seq] + [e_out, e_h, e_c])\n",
        "        sampled_token_index = np.argmax(output_tokens[0, -1, :])\n",
        "        sampled_token = tar_index_to_word[sampled_token_index]\n",
        "\n",
        "        if(sampled_token!='eostoken'):\n",
        "            decoded_sentence += ' '+sampled_token\n",
        "\n",
        "        if (sampled_token == 'eostoken'  or len(decoded_sentence.split()) >= (summary_max_len-1)):\n",
        "            stop_condition = True\n",
        "\n",
        "        target_seq = np.zeros((1,1))\n",
        "        target_seq[0, 0] = sampled_token_index\n",
        "\n",
        "        e_h, e_c = h, c\n",
        "\n",
        "    return decoded_sentence\n",
        "\n",
        "# token to text\n",
        "def seq2text(input_seq):\n",
        "    temp=''\n",
        "    for i in input_seq:\n",
        "        if(i!=0):\n",
        "            temp = temp + src_index_to_word[i]+' '\n",
        "    return temp\n",
        "\n",
        "# token to summary\n",
        "def seq2summary(input_seq):\n",
        "    temp=''\n",
        "    for i in input_seq:\n",
        "        if((i!=0 and i!=tar_word_to_index['sostoken']) and i!=tar_word_to_index['eostoken']):\n",
        "            temp = temp + tar_index_to_word[i] + ' '\n",
        "    return temp"
      ],
      "execution_count": 31,
      "outputs": []
    },
    {
      "cell_type": "code",
      "metadata": {
        "colab": {
          "base_uri": "https://localhost:8080/"
        },
        "id": "_lO_d4SJcAbX",
        "outputId": "0d3e6fb1-ea5c-4218-c026-bed2c15d5370"
      },
      "source": [
        "for i in range(0, 100):\n",
        "    print(\"data : \", seq2text(encoder_input_test[i]))\n",
        "    print(\"label :\", seq2summary(decoder_input_test[i]))\n",
        "    print(\"result :\", decode_sequence(encoder_input_test[i].reshape(1, text_max_len)))\n",
        "    print(\"----------------------------------------------\")"
      ],
      "execution_count": 45,
      "outputs": [
        {
          "output_type": "stream",
          "text": [
            "data :  sure best regular recommend coffee wanted super beach months taste fast home cost hot excellent \n",
            "label : great tasting coffee \n",
            "result :  great coffee\n",
            "----------------------------------------------\n",
            "data :  coffee old delighted quest baby price great jelly eat \n",
            "label : great coffee \n",
            "result :  great coffee\n",
            "----------------------------------------------\n",
            "data :  start best drinks better gave local amazon really yogurt heated tastier cup worry best taste yum introduced making bottles white unsalted order drinks regular always \n",
            "label : the best \n",
            "result :  great breakfast\n",
            "----------------------------------------------\n",
            "data :  tea bread find keep find spicy bones native bones mild also spicy picked reading cups outer oven ones tell product sick taste ordered \n",
            "label : more pancakes tea \n",
            "result :  love this tea\n",
            "----------------------------------------------\n",
            "data :  product depth dogs including inside weak little wanted quick product taste good well jelly local product fast texture disappointed experience disappointed amazon grilled dilute product \n",
            "label : granola love soda \n",
            "result :  not for my dogs\n",
            "----------------------------------------------\n",
            "data :  love grind online able tea twice tend behind like even sometimes think allergic loves allergic order crave fluffy one choice think tea great plain balsamic amazon large store preferred hair well allergic \n",
            "label : pleasant quick hot \n",
            "result :  great tea\n",
            "----------------------------------------------\n",
            "data :  old product cones weight minute well cotton sauce contain ever cheese toy great plenty would theaters house \n",
            "label : and it \n",
            "result :  my dog loves this\n",
            "----------------------------------------------\n",
            "data :  minutes packed cheaper recommended bread lazy variety coffees even taste back good one like flavor raw found try variety priced prices \n",
            "label : not my in \n",
            "result :  good\n",
            "----------------------------------------------\n",
            "data :  garbage feel tender changed time chili without product \n",
            "label : wanted greatest green believe \n",
            "result :  it is just what it is\n",
            "----------------------------------------------\n",
            "data :  xylitol customer loved free loved golf tried made today great paying service things low warming made eating trips left lush uncle chips loved free mix chocolate tasting brand left company \n",
            "label : best popcorn drinks mix wonderful cookies tastes many \n",
            "result :  great candy\n",
            "----------------------------------------------\n",
            "data :  great put wagging compare need little wanted hard decided punch nutritional taste better gave also \n",
            "label : great for completely made hard \n",
            "result :  great\n",
            "----------------------------------------------\n",
            "data :  mango energy one small time bits ingredients agreed like expensive noting even pretty yet ingredients makes taste noting could always item straight open grinder bought liked makes fiber using always delicious stuff purchase ingredients kona cases like received seal \n",
            "label : your cup \n",
            "result :  great for the price\n",
            "----------------------------------------------\n",
            "data :  mainstream statement demand reviews small worked brewed dollars erin salt food sensitivity office excellent times wines tasty food open please products aroma best slices ground love dog like texture espresso amazon almonds sent put time \n",
            "label : best dog food tastes peanut \n",
            "result :  great for\n",
            "----------------------------------------------\n",
            "data :  best product even indulgence anything small puff prefer count pasta day tasted prefer tossed work cocktail comment candy puff snacks well amazon cans skin shipping save brushing cherry \n",
            "label : best dog acquired some \n",
            "result :  not the best\n",
            "----------------------------------------------\n",
            "data :  spicy morning water steal petco crackers record piece another similar immune taste better mention considering however described pills tic product completely chunks packaging till stores take completely one fattening product probably bread tree would ener wanted lack go alternatives lasting one \n",
            "label : for junk \n",
            "result :  the best\n",
            "----------------------------------------------\n",
            "data :  love product become single cherries caffeine stuff travels chronic stores wild single cherries add caffeine next together lot tastes product stars \n",
            "label : great doggies blueberry \n",
            "result :  great product\n",
            "----------------------------------------------\n",
            "data :  year food year favorite soft sold melts became always similar would spicy sweet treats want \n",
            "label : little food \n",
            "result :  love these\n",
            "----------------------------------------------\n",
            "data :  product sauce heat salty flavor good take offered fingers putting \n",
            "label : very decaf \n",
            "result :  good\n",
            "----------------------------------------------\n",
            "data :  goodness stuff appear rave somewhat wild finish pastas significant one namaste made years brewing thing felt adds vanilla intolerant namaste grows month western namaste noticed sweetener lever taste low orange vanilla thing liked flavor good lot issue potatoes value teavana seem always walmart sugar hands first gf \n",
            "label : not for saver \n",
            "result :  great product\n",
            "----------------------------------------------\n",
            "data :  latest treats little side purchase said seconds complaint treats chalky run well could chowder treat main container exactly lightly snacks dr salty chebe flavorless container food entire favorite makes okay purchase complaint eat love \n",
            "label : hydration treat sandwich heaven work count \n",
            "result :  my dog loves these\n",
            "----------------------------------------------\n",
            "data :  love coffee oz crunch fast coffee price great years find dish coffee standard also good price \n",
            "label : and it \n",
            "result :  great coffee\n",
            "----------------------------------------------\n",
            "data :  treats yet step bottles six bars win three gluten wonderfully coffees pouches bars great low slightly training bottles flavor bars dark sweet supervised without gluten bars pork comes packet people kind wait snack bad tastes bottles six flavor \n",
            "label : reviews product \n",
            "result :  yummy\n",
            "----------------------------------------------\n",
            "data :  po weight shrimp amazing \n",
            "label : works the mom \n",
            "result :  great\n",
            "----------------------------------------------\n",
            "data :  best tolerable gives really drink great diet unfortunately juice better diet unfortunately tolerable old allergic reviews mailed dessert pastas get favorite chocolates scrumptious fewer coffee go complex tolerable \n",
            "label : never coconut \n",
            "result :  great flavor\n",
            "----------------------------------------------\n",
            "data :  con price feel could something amazon broken filling still hour reviews spice away would bought served store brushing saver improved best could crunchy fact much saver \n",
            "label : the best tasty love delicious \n",
            "result :  great\n",
            "----------------------------------------------\n",
            "data :  love assortment sleep tea years find stand notice richer \n",
            "label : great delicious \n",
            "result :  great tea\n",
            "----------------------------------------------\n",
            "data :  big sauce time one option purchase description flavor beverage gave flavor chai pack good good dry would along extra value got less area \n",
            "label : flavor \n",
            "result :  love this tea\n",
            "----------------------------------------------\n",
            "data :  walmart gives senseo things fresh keep made issues salsa happy happier since tastes spices \n",
            "label : great preservatives for alternative things \n",
            "result :  great\n",
            "----------------------------------------------\n",
            "data :  butter favorite fish gives coffee pay foods anything hide quite products fiber amazon mixes little write everyone wait cake flavor deal seem however wonderful size everyone light excited fish gives factor enjoy price due large spice shipping bad pasta \n",
            "label : great taste good tasty \n",
            "result :  great coffee\n",
            "----------------------------------------------\n",
            "data :  without kcups calories product rich kids price would buy product recently bags bottle crisp bake \n",
            "label : price \n",
            "result :  great product\n",
            "----------------------------------------------\n",
            "data :  part block morning sales sorts tasteless could flavor traditional quality much morning missing taste wow healthy week beside flavor close alternatives lasting missing flavor \n",
            "label : the where pancake actually it popcorn \n",
            "result :  not as good as it hoped\n",
            "----------------------------------------------\n",
            "data :  butter loves organic favorite rawhide flavor sweetness warm wet inedible \n",
            "label : great flavor \n",
            "result :  my favorite\n",
            "----------------------------------------------\n",
            "data :  want china frozen adds nice things low person gross nice low roast packets stuff next shows loved craft flax packets vue veggies bigelow believe experimenting discontinued utterly quality shortening get stuff nice working china \n",
            "label : review stinky \n",
            "result :  great product\n",
            "----------------------------------------------\n",
            "data :  hooked flavor sheets eat even better cold case much reputation \n",
            "label : addition this is fall good \n",
            "result :  love these\n",
            "----------------------------------------------\n",
            "data :  thing salmon coffee etc wonderful worth affordable find slices beverage rd dents roller three great basil three would babies hot beverage cats mushy stock instead enough grade cube super snack \n",
            "label : great coffee \n",
            "result :  great for\n",
            "----------------------------------------------\n",
            "data :  great regular good problem unadulterated much helps trying fresh regular else set would organic different flavors good salads dry sugar beef smooth cups better lower medicine better buy \n",
            "label : great tasting gluten expensive with protein bite \n",
            "result :  great taste\n",
            "----------------------------------------------\n",
            "data :  delicious delicious delicious delicious way carries delicious love always cannot web plastic delicious delicious \n",
            "label : product \n",
            "result :  best ever\n",
            "----------------------------------------------\n",
            "data :  drinks used diet promptly always back good making bottles flavor buying thrilled worried agave brand blends care enough get nature enough add cheap although smooth dark usually satisfies horrible subscription used son pasta right says used associated drinks taste able drinks \n",
            "label : very good disappointing \n",
            "result :  great for the price\n",
            "----------------------------------------------\n",
            "data :  finding ate initial adverse value smell little put pineapple taste little greenies calif bread approx good little fruit enjoyed temperature lot taste greenies \n",
            "label : extra to like perfect \n",
            "result :  great for\n",
            "----------------------------------------------\n",
            "data :  new outside favors like molasses perfect dog seem decaf favorite main container lightly ketchup come much best health \n",
            "label : dogs disappointed bought for this \n",
            "result :  great tea\n",
            "----------------------------------------------\n",
            "data :  baby ever strong order one recommend still absolutely still time cherry convenient coffee buy box hard chips first box take expired added would tastes coffee baby \n",
            "label : solution \n",
            "result :  stale\n",
            "----------------------------------------------\n",
            "data :  caramel teabag box salt ramune using olive parent makes item corgi ready making tabasco \n",
            "label : it eater lab soft it \n",
            "result :  great product\n",
            "----------------------------------------------\n",
            "data :  coffee excellent away vinegar eating special reviewer enough would know really interested illy cupcakes teeth coffee christmas beautiful awesome taste good taste hazelnut oz actually way like made peppermint yummy keurig tomatos yummy breakfast drink good back much like coffee \n",
            "label : money special shipping \n",
            "result :  best coffee ever\n",
            "----------------------------------------------\n",
            "data :  per bars dieters freeze probiotics purchased well cheaper said coffee bit hands need cup \n",
            "label : yummy so quick if breakfast cups \n",
            "result :  love this coffee\n",
            "----------------------------------------------\n",
            "data :  yummy hands favorite felt brazil taste however day yummy crystallized chips come need eat \n",
            "label : not for all \n",
            "result :  yummy\n",
            "----------------------------------------------\n",
            "data :  year favorite real year snack one side chew find hard try also packaging good without going empty grain \n",
            "label : little snack it \n",
            "result :  great snack\n",
            "----------------------------------------------\n",
            "data :  love product flavor delicious little write month cannot variety later get win hands add go beg maker figure mat use candy eating box sort yummy package way pack easy bed happy \n",
            "label : price tea \n",
            "result :  love these\n",
            "----------------------------------------------\n",
            "data :  love tea days sweet go tell stores like winner eat one \n",
            "label : and it \n",
            "result :  love this tea\n",
            "----------------------------------------------\n",
            "data :  long sugar great canned hands calories pleasantly add several pasty mix calories good girl house rich enough sugar careful cheese calories fresh price would spice sausages kids calories ago say quite store \n",
            "label : good for the going \n",
            "result :  great taste\n",
            "----------------------------------------------\n",
            "data :  smelling tasty combination fond would tastes yummy also good perfect prefer much seems something store \n",
            "label : great variety \n",
            "result :  great tasting\n",
            "----------------------------------------------\n",
            "data :  great product dogs obviously celiac readily mix kibble mix take drink good also great major money formula six \n",
            "label : great delicious \n",
            "result :  great for dogs with allergies\n",
            "----------------------------------------------\n",
            "data :  microwaved bread year choice bend like top almost cute little ordered star time truly figure movies microwaved yumm sell cook bend find loaf add tasted get decent tasting nothing month raw year go \n",
            "label : worth low my little wish it \n",
            "result :  great for those on the go\n",
            "----------------------------------------------\n",
            "data :  great product arrived hope gotta uses puffs drink delicious also place pour mix water protein anyway expensive grind found marinade diagnosed \n",
            "label : and it \n",
            "result :  great product\n",
            "----------------------------------------------\n",
            "data :  little shipment sent healthful like stick organic beans old purchase day portion great arrived hope bit repeatedly liked crumble switched kidding problem pricey dark usually cookies coating shiny cocker bargain \n",
            "label : husband these minutes salt leaf \n",
            "result :  great price\n",
            "----------------------------------------------\n",
            "data :  juice take sons potatoes juice placebo flavor tried one sons cold gave sons adds mild crispy bottles juice drink like fresh making pouches pomegranate crispy best flavor \n",
            "label : plain terrible \n",
            "result :  great product\n",
            "----------------------------------------------\n",
            "data :  super super super crunchy oz broke el stores give substantial product carried time well grain super fit enjoy \n",
            "label : me stale \n",
            "result :  great value\n",
            "----------------------------------------------\n",
            "data :  looked pieces added afraid sauce recent delicious treat stars price brand high delicious \n",
            "label : great treat to trans to mac \n",
            "result :  great flavor\n",
            "----------------------------------------------\n",
            "data :  love creamer mozzarella anything small rice hours creamer almost good smells right bit go love sugars spending creamer far chance timely hands clearly flavoring mess oriental especially one houtte sugar home anything small altoids \n",
            "label : ruined for filters \n",
            "result :  great coffee\n",
            "----------------------------------------------\n",
            "data :  smell time family positive expresso without reasonable fortune really put break previously deal really sugar stopped tummy awesome kid adds vitamin much delivery heavy aroma expecting candy uses \n",
            "label : lowrey great purchase brand loves \n",
            "result :  great\n",
            "----------------------------------------------\n",
            "data :  search teas breakfast mix search lucy water chocolate tasting salt wanted water checked taste brand burned cooks natural search taste like would legs milk larger sauce good creamy save started cheese \n",
            "label : kashi \n",
            "result :  great tea\n",
            "----------------------------------------------\n",
            "data :  would froth pack turkey extremely litter flavor never bonsai good yummy popcorn yet ordering flavor live wish heading family iced lot received quite fun \n",
            "label : difference \n",
            "result :  great popcorn\n",
            "----------------------------------------------\n",
            "data :  popcorn favorite three snack actually make loves price chicago buy product \n",
            "label : great hot there \n",
            "result :  great popcorn\n",
            "----------------------------------------------\n",
            "data :  old already great may korea overpriced heartier amount already treats maybe recipe \n",
            "label : tasted it \n",
            "result :  great product\n",
            "----------------------------------------------\n",
            "data :  given see much concern free cookies glad things opened even room soft made different natural without given see \n",
            "label : fun bland did \n",
            "result :  love these cookies\n",
            "----------------------------------------------\n",
            "data :  give feel got expensive pasta timely though flavor purchased least least like taste know similar chips snack would saltine tried flavor feel nacho dilute loaf \n",
            "label : loved not taste great to my bread \n",
            "result :  great\n",
            "----------------------------------------------\n",
            "data :  enjoy tea much pet amazon good fact \n",
            "label : tea \n",
            "result :  tea\n",
            "----------------------------------------------\n",
            "data :  taste good however product like flavors torn none fancy better allergy \n",
            "label : described \n",
            "result :  good\n",
            "----------------------------------------------\n",
            "data :  shipping us pancakes read wonderful fruit product product depth easy quick temptations potassium crunchy teeth tea makes catnip ought potassium quick would buy \n",
            "label : decaf delicious \n",
            "result :  love this stuff\n",
            "----------------------------------------------\n",
            "data :  like white tea love healthy great white flavor flight head good think pepper potato hot bloody incredibly weird enjoys nutritionally milk \n",
            "label : and this tea \n",
            "result :  great tea\n",
            "----------------------------------------------\n",
            "data :  product sale anyone thanks made falling imo trying jar comparison tryed mystery low flavor less \n",
            "label : starbucks pop with alternative \n",
            "result :  not impressed\n",
            "----------------------------------------------\n",
            "data :  found find drive healthy whether gets yogurt pk day basket cal give grocery cheaper moist shipping cost would become spice love product \n",
            "label : mom packages entertaining \n",
            "result :  great buy\n",
            "----------------------------------------------\n",
            "data :  mix usual went much combination much flavor similar unless pizza sauce fresh lover scissors oven mixes mix happy credit love \n",
            "label : rich \n",
            "result :  the best\n",
            "----------------------------------------------\n",
            "data :  roasted thankful drink temperature temperature thankful expiration hard tell area evening boldness get self mild close research coconut forming eat came keurig \n",
            "label : simple cans because cooking idea \n",
            "result :  my favorite\n",
            "----------------------------------------------\n",
            "data :  taste good candies eat snack everything time \n",
            "label : price bonsai \n",
            "result :  tasty snack\n",
            "----------------------------------------------\n",
            "data :  coffee cold thought would super coffee cavities cut pick hygiene recommend fruit cup healthy \n",
            "label : com his coffee \n",
            "result :  good coffee\n",
            "----------------------------------------------\n",
            "data :  ever rounded nothing dust real rescue needs flavored found really enough fact hershey sad fat food able \n",
            "label : bad us crazy food they has an \n",
            "result :  not so good\n",
            "----------------------------------------------\n",
            "data :  happy find shipped milk step really loved free love cocoa fact shape \n",
            "label : happy \n",
            "result :  great\n",
            "----------------------------------------------\n",
            "data :  delicious says eating cookie great meal arrived bears arrived hope able \n",
            "label : these with buy \n",
            "result :  great cookies\n",
            "----------------------------------------------\n",
            "data :  keep little brewing calories basic available somehow begging posted brewing convenient calories cereals great jar longer flavor cannot may standard stars popcorn eat need birthday chocolate tasting really calorie guys \n",
            "label : dented to vitamin for \n",
            "result :  good but not great\n",
            "----------------------------------------------\n",
            "data :  product drink great around love sauce save love older wake recommended would lot buy tastes stars \n",
            "label : great delicious them product \n",
            "result :  best tea ever\n",
            "----------------------------------------------\n",
            "data :  made money whether going chew first nutro money excited sip cooking form better frosting without price ease \n",
            "label : very good flavor \n",
            "result :  not for me\n",
            "----------------------------------------------\n",
            "data :  distract great bars amazon exceptional awesome greenies bars bars live think seafood bag rice minutes kong family chunky bars fat chebe big market spiciness washed cup \n",
            "label : amazing not at these that from sauce \n",
            "result :  yummy\n",
            "----------------------------------------------\n",
            "data :  love guests tea delicious drink like moving tea adult directions ahmad train could tin tea \n",
            "label : product watch tea \n",
            "result :  great tea\n",
            "----------------------------------------------\n",
            "data :  wish get like likes little others else keep great health amazon price large flavors coffees \n",
            "label : great \n",
            "result :  great\n",
            "----------------------------------------------\n",
            "data :  journey avoid crisp tea sweetener sweet go tell assortment sleep difference breakfast sweet go tell always takes best tea pack natural flavor real spanish carries always take literally excellent gone friends \n",
            "label : milk of the best tea tastes over \n",
            "result :  great tea\n",
            "----------------------------------------------\n",
            "data :  nana strange cups coffee eating sugarworks unique easily best coffee many put bed going hole lot much better cold except price ordered good health ever cups filling price one sugar cut flavors products size good coffee decided excited thai something cut biodegradable run eat may \n",
            "label : good amazon \n",
            "result :  good coffee\n",
            "----------------------------------------------\n",
            "data :  size oz order eat white order chocolate almost good \n",
            "label : good vanilla \n",
            "result :  good\n",
            "----------------------------------------------\n",
            "data :  melting package bottle deep surprised soup carbs taste fair would easy bottle \n",
            "label : usa it you up \n",
            "result :  not what expected\n",
            "----------------------------------------------\n",
            "data :  super rubber wal stale coffees taste great chocolate good bit carbs treat \n",
            "label : expiration bigelow down \n",
            "result :  good\n",
            "----------------------------------------------\n",
            "data :  everywhere yum love delicious place choice nana nice salads chewy yuck love taste \n",
            "label : handy \n",
            "result :  best pretzels ever\n",
            "----------------------------------------------\n",
            "data :  different vanilla ingredients best delicious tried etc \n",
            "label : look \n",
            "result :  love this stuff\n",
            "----------------------------------------------\n",
            "data :  worth old unique easily arrived correctly oz flavor outs quit worth maybe content recommend fun \n",
            "label : money nasty \n",
            "result :  not impressed\n",
            "----------------------------------------------\n",
            "data :  local rotation solid best quick bit available pleased strong love honey sweetens soft drops chocolate get two sent cardamom apparently carry aromatic dark lot decided add received put roll taste good add several eating cocoa even steamer nose com north market deal market bowl puts found easy away extra would \n",
            "label : and these thai \n",
            "result :  best ever\n",
            "----------------------------------------------\n",
            "data :  deal pop main container kind pastas business plastic delicious days stuff product friday daddy cups mocafe around shipments cap cooks product one sink milk loves unfortunately milk buy amazon finding seems quite store get cream good lentils old treat upon hydration pieces \n",
            "label : rope product sandwich heaven through \n",
            "result :  works worth the price\n",
            "----------------------------------------------\n",
            "data :  soothes grams expecting counter ordering shampoo tea quite products tried amazon hot easily find popcorn favorite shampoo tea area delight buy \n",
            "label : rancid tea \n",
            "result :  tea\n",
            "----------------------------------------------\n",
            "data :  love required much experienced bag try honey like easier twice ago breed nut surface addicted flavors found bone give experienced know beef thought yet even almost closest \n",
            "label : crunchy \n",
            "result :  my favorite\n",
            "----------------------------------------------\n",
            "data :  great price candies treat best candies switch sure available raved standard problem sugar \n",
            "label : product \n",
            "result :  my favorite\n",
            "----------------------------------------------\n",
            "data :  give life provides sauce sugared gagged general antioxidents motivated provides similar box surely prices maybe canisters lover percentage several caramel flavours concerns applesauce never dryness caramel vacuum gag sauce thing right \n",
            "label : if cocoa difficult two on \n",
            "result :  not the best\n",
            "----------------------------------------------\n",
            "data :  best health gummy product could completely foil diet covering tasteless microwave full thinks used wants powder bell refund wrong health \n",
            "label : best stuff as the around \n",
            "result :  not so much\n",
            "----------------------------------------------\n",
            "data :  bags product seller amazon wing good however family time give though pirate chicken greenies blah surprised anyone impressed amazon pancakes read everybody energy asian ordered milk feel amazon rather milk bent overall wing great price \n",
            "label : bold love zevia \n",
            "result :  simply amazing\n",
            "----------------------------------------------\n"
          ],
          "name": "stdout"
        }
      ]
    }
  ]
}